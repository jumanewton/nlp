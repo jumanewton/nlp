{
  "nbformat": 4,
  "nbformat_minor": 0,
  "metadata": {
    "colab": {
      "provenance": [],
      "gpuType": "V28"
    },
    "kernelspec": {
      "name": "python3",
      "display_name": "Python 3"
    },
    "language_info": {
      "name": "python"
    },
    "accelerator": "TPU"
  },
  "cells": [
    {
      "cell_type": "code",
      "execution_count": null,
      "metadata": {
        "id": "Soz627vmkTyM"
      },
      "outputs": [],
      "source": [
        "!pip install datasets\n"
      ]
    },
    {
      "cell_type": "code",
      "source": [
        "from datasets import list_datasets, load_dataset\n"
      ],
      "metadata": {
        "id": "uEC_0hWbvHzb"
      },
      "execution_count": null,
      "outputs": []
    },
    {
      "cell_type": "code",
      "source": [
        "imdb=load_dataset(\"imdb\")"
      ],
      "metadata": {
        "id": "LnoMYN1Dy4VU"
      },
      "execution_count": null,
      "outputs": []
    },
    {
      "cell_type": "code",
      "source": [
        "imdb.keys()"
      ],
      "metadata": {
        "id": "95dymi84zqtG"
      },
      "execution_count": null,
      "outputs": []
    },
    {
      "cell_type": "code",
      "source": [
        "imdb[\"train\"].column_names"
      ],
      "metadata": {
        "id": "Fd8x2bVS0HXU"
      },
      "execution_count": null,
      "outputs": []
    },
    {
      "cell_type": "code",
      "source": [
        "imdb[\"train\"][0]"
      ],
      "metadata": {
        "id": "GUCfa7OV0ZYt"
      },
      "execution_count": null,
      "outputs": []
    },
    {
      "cell_type": "code",
      "source": [
        "imdb[\"train\"].shape"
      ],
      "metadata": {
        "id": "IhoYEDDO0eJj"
      },
      "execution_count": null,
      "outputs": []
    },
    {
      "cell_type": "code",
      "source": [
        "imdb[\"test\"].shape"
      ],
      "metadata": {
        "id": "RagnzxNn16It"
      },
      "execution_count": null,
      "outputs": []
    },
    {
      "cell_type": "code",
      "source": [
        "imdb[\"train\"].features"
      ],
      "metadata": {
        "id": "F65aGq361_bJ"
      },
      "execution_count": null,
      "outputs": []
    },
    {
      "cell_type": "code",
      "source": [
        "!pip install transformers"
      ],
      "metadata": {
        "id": "7cWmaweN3WOM"
      },
      "execution_count": null,
      "outputs": []
    },
    {
      "cell_type": "code",
      "source": [
        "from transformers import AutoTokenizer"
      ],
      "metadata": {
        "id": "BVAxigtAPBil"
      },
      "execution_count": null,
      "outputs": []
    },
    {
      "cell_type": "code",
      "source": [
        "tokenizer=AutoTokenizer.from_pretrained(\"distilbert-base-uncased\")\n"
      ],
      "metadata": {
        "id": "wYP29TNvPQ3Y"
      },
      "execution_count": null,
      "outputs": []
    },
    {
      "cell_type": "code",
      "source": [
        "tokenizer.is_fast"
      ],
      "metadata": {
        "id": "D8r12ioLP9Wh"
      },
      "execution_count": null,
      "outputs": []
    },
    {
      "cell_type": "code",
      "source": [
        "type(tokenizer)"
      ],
      "metadata": {
        "id": "C51q-CjIQjKr"
      },
      "execution_count": null,
      "outputs": []
    },
    {
      "cell_type": "code",
      "source": [
        "tokenizer.model_max_length"
      ],
      "metadata": {
        "id": "Y3fgTRbOQwmw"
      },
      "execution_count": null,
      "outputs": []
    },
    {
      "cell_type": "code",
      "source": [
        "tokenizer.vocab_size"
      ],
      "metadata": {
        "id": "pDCiMonBRMO3"
      },
      "execution_count": null,
      "outputs": []
    },
    {
      "cell_type": "code",
      "source": [
        "X_train=imdb[\"train\"][\"text\"]\n",
        "y_train=imdb[\"train\"][\"label\"]\n",
        "X_test=imdb[\"test\"][\"text\"]\n",
        "y_test=imdb[\"test\"][\"label\"]"
      ],
      "metadata": {
        "id": "76lQbp2jRf6D"
      },
      "execution_count": null,
      "outputs": []
    },
    {
      "cell_type": "code",
      "source": [],
      "metadata": {
        "id": "R49Ge_sNVoCe"
      },
      "execution_count": null,
      "outputs": []
    },
    {
      "cell_type": "code",
      "source": [
        "print(len(X_train))\n",
        "print(len(X_test))\n",
        "print(len(y_train))\n",
        "print(len(y_test))"
      ],
      "metadata": {
        "id": "XEh3SZZrWATw"
      },
      "execution_count": null,
      "outputs": []
    },
    {
      "cell_type": "code",
      "source": [
        "print(type(X_train))\n",
        "print(type(y_train))\n"
      ],
      "metadata": {
        "id": "1InZVn_rWnWX"
      },
      "execution_count": null,
      "outputs": []
    },
    {
      "cell_type": "code",
      "source": [
        "train_encodings=tokenizer(X_train, max_length=128, truncation=True, padding=True)\n",
        "test_encodings=tokenizer(X_test, max_length=128, truncation=True, padding=True)"
      ],
      "metadata": {
        "id": "DCNDI0lnWyWT"
      },
      "execution_count": null,
      "outputs": []
    },
    {
      "cell_type": "code",
      "source": [
        "import tensorflow as tf"
      ],
      "metadata": {
        "id": "axqEWuTWZVDC"
      },
      "execution_count": null,
      "outputs": []
    },
    {
      "cell_type": "code",
      "source": [
        "train_dataset=tf.data.Dataset.from_tensor_slices((dict(train_encodings), y_train))\n",
        "test_dataset=tf.data.Dataset.from_tensor_slices((dict(test_encodings), y_test))"
      ],
      "metadata": {
        "id": "ElBWNgGpXOIm"
      },
      "execution_count": null,
      "outputs": []
    },
    {
      "cell_type": "code",
      "source": [
        "train_dataset=train_dataset.shuffle(len(X_train)).batch(16)\n",
        "test_dataset=test_dataset.batch(16)"
      ],
      "metadata": {
        "id": "StkdkFBsZwH_"
      },
      "execution_count": null,
      "outputs": []
    },
    {
      "cell_type": "code",
      "source": [
        "from transformers import TFAutoModelForSequenceClassification\n"
      ],
      "metadata": {
        "id": "k0P5oJH7aYpL"
      },
      "execution_count": null,
      "outputs": []
    },
    {
      "cell_type": "code",
      "source": [
        "from transformers import TFAutoModelForSequenceClassification\n",
        "from transformers import create_optimizer\n",
        "import tensorflow as tf\n",
        "\n",
        "# Load the pre-trained model\n",
        "model = TFAutoModelForSequenceClassification.from_pretrained(\"distilbert-base-uncased\", num_labels=2)\n",
        "\n",
        "# Define the optimizer using the transformers library\n",
        "optimizer, _ = create_optimizer(\n",
        "    init_lr=3e-5,\n",
        "    num_train_steps=10000,  # Change this to the actual number of training steps\n",
        "    num_warmup_steps=1000   # Change this to the actual number of warmup steps\n",
        ")\n",
        "\n",
        "# Define the loss and metrics\n",
        "loss = tf.keras.losses.SparseCategoricalCrossentropy(from_logits=True)\n",
        "metrics = [tf.keras.metrics.SparseCategoricalAccuracy(\"accuracy\")]\n",
        "\n",
        "# Compile the model\n",
        "model.compile(optimizer=optimizer, loss=loss, metrics=metrics)\n",
        "\n",
        "# Print the model summary\n",
        "model.summary()\n"
      ],
      "metadata": {
        "id": "Znzvvm5Neelz"
      },
      "execution_count": null,
      "outputs": []
    },
    {
      "cell_type": "code",
      "source": [
        "# model=TFAutoModelForSequenceClassification.from_pretrained(\"distilbert-base-uncased\", num_labels=2)\n",
        "\n",
        "# opt=tf.keras.optimizers.Adam(learning_rate=3e-5)\n",
        "# loss=tf.keras.losses.SparseCategoricalCrossentropy(from_logits=True)\n",
        "# metrics=tf.keras.metrics.SparseCategoricalAccuracy(\"accuracy\")\n",
        "\n",
        "# model.compile(optimizer=opt, loss=loss, metrics=metrics)\n",
        "# model.summary()"
      ],
      "metadata": {
        "id": "FfrcBlSocFR0"
      },
      "execution_count": null,
      "outputs": []
    },
    {
      "cell_type": "code",
      "source": [
        "model.fit(train_dataset, epochs=3)"
      ],
      "metadata": {
        "id": "en1ZOI-gdsBc",
        "colab": {
          "base_uri": "https://localhost:8080/"
        },
        "outputId": "6e335131-6dc9-48ca-9037-accd6614a558"
      },
      "execution_count": null,
      "outputs": [
        {
          "metadata": {
            "tags": null
          },
          "name": "stdout",
          "output_type": "stream",
          "text": [
            "Epoch 1/3\n"
          ]
        },
        {
          "metadata": {
            "tags": null
          },
          "name": "stderr",
          "output_type": "stream",
          "text": [
            "WARNING:tensorflow:AutoGraph could not transform <function infer_framework at 0x7bd5af2064d0> and will run it as-is.\n",
            "Cause: for/else statement not yet supported\n",
            "To silence this warning, decorate the function with @tf.autograph.experimental.do_not_convert\n"
          ]
        },
        {
          "output_type": "stream",
          "name": "stdout",
          "text": [
            "WARNING: AutoGraph could not transform <function infer_framework at 0x7bd5af2064d0> and will run it as-is.\n",
            "Cause: for/else statement not yet supported\n",
            "To silence this warning, decorate the function with @tf.autograph.experimental.do_not_convert\n",
            "  37/1563 [..............................] - ETA: 5:16:25 - loss: 0.6962 - accuracy: 0.4905"
          ]
        }
      ]
    },
    {
      "cell_type": "code",
      "source": [
        "test_loss, test_acc=model.evaluate(test_dataset)\n",
        "print(f\"Test Loss: {test_loss:.4f}\")\n",
        "print(f\"Test Accuracy: {test_acc:.4f}\")"
      ],
      "metadata": {
        "id": "uhKfRcZRiNZo"
      },
      "execution_count": null,
      "outputs": []
    },
    {
      "cell_type": "code",
      "source": [],
      "metadata": {
        "id": "UDyzTdPBieY-"
      },
      "execution_count": null,
      "outputs": []
    }
  ]
}